{
 "cells": [
  {
   "cell_type": "code",
   "execution_count": 1,
   "id": "e0c83113",
   "metadata": {},
   "outputs": [],
   "source": [
    "import cv2\n",
    "import pandas as pd\n",
    "from sklearn.model_selection import train_test_split\n",
    "from sklearn.neighbors import KNeighborsClassifier\n",
    "from sklearn.tree import DecisionTreeClassifier\n",
    "from sklearn.metrics import accuracy_score"
   ]
  },
  {
   "cell_type": "code",
   "execution_count": 2,
   "id": "ef65cb86",
   "metadata": {},
   "outputs": [],
   "source": [
    "csv_path = 'colors.csv'\n",
    "index = ['color', 'color_name', 'hex', 'R', 'G', 'B']\n",
    "df = pd.read_csv(csv_path, names=index, header=None)"
   ]
  },
  {
   "cell_type": "code",
   "execution_count": 3,
   "id": "4a98b1d1",
   "metadata": {},
   "outputs": [],
   "source": [
    "img_path = 'pic1.jpg'\n",
    "img = cv2.imread(img_path)\n",
    "img = cv2.resize(img, (800, 600))"
   ]
  },
  {
   "cell_type": "code",
   "execution_count": 4,
   "id": "23a8a8cf",
   "metadata": {},
   "outputs": [],
   "source": [
    "# Features (R, G, B values)\n",
    "X = df[['R', 'G', 'B']]\n",
    "# Target variable (Color labels)\n",
    "y = df['color_name']"
   ]
  },
  {
   "cell_type": "code",
   "execution_count": 5,
   "id": "17a34496",
   "metadata": {},
   "outputs": [],
   "source": [
    "# Split the dataset into training and testing sets\n",
    "X_train, X_test, y_train, y_test = train_test_split(X, y, test_size=0.2, random_state=42)"
   ]
  },
  {
   "cell_type": "code",
   "execution_count": 6,
   "id": "1c78c286",
   "metadata": {},
   "outputs": [
    {
     "name": "stdout",
     "output_type": "stream",
     "text": [
      "KNN Model Accuracy: 0.00%\n"
     ]
    },
    {
     "ename": "NameError",
     "evalue": "name 'np' is not defined",
     "output_type": "error",
     "traceback": [
      "\u001b[1;31m---------------------------------------------------------------------------\u001b[0m",
      "\u001b[1;31mNameError\u001b[0m                                 Traceback (most recent call last)",
      "Cell \u001b[1;32mIn[6], line 11\u001b[0m\n\u001b[0;32m      8\u001b[0m \u001b[38;5;28mprint\u001b[39m(\u001b[38;5;124mf\u001b[39m\u001b[38;5;124m'\u001b[39m\u001b[38;5;124mKNN Model Accuracy: \u001b[39m\u001b[38;5;132;01m{\u001b[39;00mknn_accuracy\u001b[38;5;250m \u001b[39m\u001b[38;5;241m*\u001b[39m\u001b[38;5;250m \u001b[39m\u001b[38;5;241m100\u001b[39m\u001b[38;5;132;01m:\u001b[39;00m\u001b[38;5;124m.2f\u001b[39m\u001b[38;5;132;01m}\u001b[39;00m\u001b[38;5;124m%\u001b[39m\u001b[38;5;124m'\u001b[39m)\n\u001b[0;32m     10\u001b[0m \u001b[38;5;66;03m# Example prediction on a new color for KNN\u001b[39;00m\n\u001b[1;32m---> 11\u001b[0m new_color_knn \u001b[38;5;241m=\u001b[39m np\u001b[38;5;241m.\u001b[39marray([[\u001b[38;5;241m100\u001b[39m, \u001b[38;5;241m200\u001b[39m, \u001b[38;5;241m50\u001b[39m]])  \u001b[38;5;66;03m# Replace with your RGB values\u001b[39;00m\n\u001b[0;32m     12\u001b[0m knn_prediction \u001b[38;5;241m=\u001b[39m knn_classifier\u001b[38;5;241m.\u001b[39mpredict(new_color_knn)\n\u001b[0;32m     13\u001b[0m \u001b[38;5;28mprint\u001b[39m(\u001b[38;5;124mf\u001b[39m\u001b[38;5;124m'\u001b[39m\u001b[38;5;124mKNN Predicted Color: \u001b[39m\u001b[38;5;132;01m{\u001b[39;00mknn_prediction[\u001b[38;5;241m0\u001b[39m]\u001b[38;5;132;01m}\u001b[39;00m\u001b[38;5;124m'\u001b[39m)\n",
      "\u001b[1;31mNameError\u001b[0m: name 'np' is not defined"
     ]
    }
   ],
   "source": [
    "# 1. K-Nearest Neighbors (KNN)\n",
    "knn_classifier = KNeighborsClassifier(n_neighbors=3)\n",
    "knn_classifier.fit(X_train, y_train)\n",
    "knn_predictions = knn_classifier.predict(X_test)\n",
    "\n",
    "# Evaluate KNN model's accuracy\n",
    "knn_accuracy = accuracy_score(y_test, knn_predictions)\n",
    "print(f'KNN Model Accuracy: {knn_accuracy * 100:.2f}%')\n",
    "\n",
    "# Example prediction on a new color for KNN\n",
    "new_color_knn = np.array([[100, 200, 50]])  # Replace with your RGB values\n",
    "knn_prediction = knn_classifier.predict(new_color_knn)\n",
    "print(f'KNN Predicted Color: {knn_prediction[0]}')"
   ]
  },
  {
   "cell_type": "code",
   "execution_count": 7,
   "id": "80e99ffd",
   "metadata": {},
   "outputs": [
    {
     "name": "stdout",
     "output_type": "stream",
     "text": [
      "Decision Tree Model Accuracy: 0.00%\n"
     ]
    },
    {
     "ename": "NameError",
     "evalue": "name 'np' is not defined",
     "output_type": "error",
     "traceback": [
      "\u001b[1;31m---------------------------------------------------------------------------\u001b[0m",
      "\u001b[1;31mNameError\u001b[0m                                 Traceback (most recent call last)",
      "Cell \u001b[1;32mIn[7], line 11\u001b[0m\n\u001b[0;32m      8\u001b[0m \u001b[38;5;28mprint\u001b[39m(\u001b[38;5;124mf\u001b[39m\u001b[38;5;124m'\u001b[39m\u001b[38;5;124mDecision Tree Model Accuracy: \u001b[39m\u001b[38;5;132;01m{\u001b[39;00mtree_accuracy\u001b[38;5;250m \u001b[39m\u001b[38;5;241m*\u001b[39m\u001b[38;5;250m \u001b[39m\u001b[38;5;241m100\u001b[39m\u001b[38;5;132;01m:\u001b[39;00m\u001b[38;5;124m.2f\u001b[39m\u001b[38;5;132;01m}\u001b[39;00m\u001b[38;5;124m%\u001b[39m\u001b[38;5;124m'\u001b[39m)\n\u001b[0;32m     10\u001b[0m \u001b[38;5;66;03m# Example prediction on a new color for Decision Tree\u001b[39;00m\n\u001b[1;32m---> 11\u001b[0m new_color_tree \u001b[38;5;241m=\u001b[39m np\u001b[38;5;241m.\u001b[39marray([[\u001b[38;5;241m100\u001b[39m, \u001b[38;5;241m200\u001b[39m, \u001b[38;5;241m50\u001b[39m]])  \u001b[38;5;66;03m# Replace with your RGB values\u001b[39;00m\n\u001b[0;32m     12\u001b[0m tree_prediction \u001b[38;5;241m=\u001b[39m tree_classifier\u001b[38;5;241m.\u001b[39mpredict(new_color_tree)\n\u001b[0;32m     13\u001b[0m \u001b[38;5;28mprint\u001b[39m(\u001b[38;5;124mf\u001b[39m\u001b[38;5;124m'\u001b[39m\u001b[38;5;124mDecision Tree Predicted Color: \u001b[39m\u001b[38;5;132;01m{\u001b[39;00mtree_prediction[\u001b[38;5;241m0\u001b[39m]\u001b[38;5;132;01m}\u001b[39;00m\u001b[38;5;124m'\u001b[39m)\n",
      "\u001b[1;31mNameError\u001b[0m: name 'np' is not defined"
     ]
    }
   ],
   "source": [
    "# 2. Decision Tree\n",
    "tree_classifier = DecisionTreeClassifier(random_state=42)\n",
    "tree_classifier.fit(X_train, y_train)\n",
    "tree_predictions = tree_classifier.predict(X_test)\n",
    "\n",
    "# Evaluate Decision Tree model's accuracy\n",
    "tree_accuracy = accuracy_score(y_test, tree_predictions)\n",
    "print(f'Decision Tree Model Accuracy: {tree_accuracy * 100:.2f}%')\n",
    "\n",
    "# Example prediction on a new color for Decision Tree\n",
    "new_color_tree = np.array([[100, 200, 50]])  # Replace with your RGB values\n",
    "tree_prediction = tree_classifier.predict(new_color_tree)\n",
    "print(f'Decision Tree Predicted Color: {tree_prediction[0]}')"
   ]
  },
  {
   "cell_type": "code",
   "execution_count": 8,
   "id": "e98e0aa3",
   "metadata": {},
   "outputs": [],
   "source": [
    "clicked = False\n",
    "r = g = b = xpos = ypos = 0\n",
    "  "
   ]
  },
  {
   "cell_type": "code",
   "execution_count": 9,
   "id": "61c069a0",
   "metadata": {},
   "outputs": [],
   "source": [
    "def get_color_name(R ,G ,B):\n",
    "    minimum = 1000\n",
    "    for i in range(len(df)):\n",
    "        d = abs(R - int(df.loc[i,'R'])) + abs(G - int(df.loc[i,'G'])) + abs(B - int(df.loc[i,'B']))\n",
    "        if d  <= minimum:\n",
    "           minimum = d\n",
    "           cname = df.loc[i ,'color_name']\n",
    "\n",
    "    return cname"
   ]
  },
  {
   "cell_type": "code",
   "execution_count": null,
   "id": "a817b8b9",
   "metadata": {},
   "outputs": [],
   "source": [
    "def draw_function(event , x , y , flags , params):\n",
    "    if event == cv2.EVENT_LBUTTONDBLCLK:\n",
    "        global clicked , r , g ,b , xpos , ypos\n",
    "        clicked = True\n",
    "        xpos = x\n",
    "        ypos = y\n",
    "        b ,g, r = img[y,x]\n",
    "        b = int(b)\n",
    "        g = int(g)\n",
    "        r = int(r)"
   ]
  }
 ],
 "metadata": {
  "kernelspec": {
   "display_name": "Python 3 (ipykernel)",
   "language": "python",
   "name": "python3"
  },
  "language_info": {
   "codemirror_mode": {
    "name": "ipython",
    "version": 3
   },
   "file_extension": ".py",
   "mimetype": "text/x-python",
   "name": "python",
   "nbconvert_exporter": "python",
   "pygments_lexer": "ipython3",
   "version": "3.11.4"
  }
 },
 "nbformat": 4,
 "nbformat_minor": 5
}
