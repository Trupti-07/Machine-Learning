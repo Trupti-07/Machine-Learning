{
 "cells": [
  {
   "cell_type": "code",
   "execution_count": 2,
   "id": "e0c83113",
   "metadata": {},
   "outputs": [],
   "source": [
    "import cv2\n",
    "import pandas as pd\n"
   ]
  },
  {
   "cell_type": "code",
   "execution_count": 3,
   "id": "ef65cb86",
   "metadata": {},
   "outputs": [],
   "source": [
    "csv_path = 'colors.csv'\n",
    "index = ['color', 'color_name', 'hex', 'R', 'G', 'B']\n",
    "df = pd.read_csv(csv_path, names=index, header=None)"
   ]
  },
  {
   "cell_type": "code",
   "execution_count": 4,
   "id": "4a98b1d1",
   "metadata": {},
   "outputs": [],
   "source": [
    "img_path = 'pic1.jpg'\n",
    "img = cv2.imread(img_path)\n",
    "img = cv2.resize(img, (800, 600))"
   ]
  },
  {
   "cell_type": "code",
   "execution_count": 5,
   "id": "23a8a8cf",
   "metadata": {},
   "outputs": [],
   "source": [
    "# Features (R, G, B values)\n",
    "X = df[['R', 'G', 'B']]\n",
    "# Target variable (Color labels)\n",
    "y = df['color_name']"
   ]
  },
  {
   "cell_type": "code",
   "execution_count": 6,
   "id": "e98e0aa3",
   "metadata": {},
   "outputs": [],
   "source": [
    "clicked = False\n",
    "r = g = b = xpos = ypos = 0\n",
    "  "
   ]
  },
  {
   "cell_type": "code",
   "execution_count": 7,
   "id": "61c069a0",
   "metadata": {},
   "outputs": [],
   "source": [
    "def get_color_name(R ,G ,B):\n",
    "    minimum = 1000\n",
    "    for i in range(len(df)):\n",
    "        d = abs(R - int(df.loc[i,'R'])) + abs(G - int(df.loc[i,'G'])) + abs(B - int(df.loc[i,'B']))\n",
    "        if d  <= minimum:\n",
    "           minimum = d\n",
    "           cname = df.loc[i ,'color_name']\n",
    "\n",
    "    return cname"
   ]
  },
  {
   "cell_type": "code",
   "execution_count": 8,
   "id": "a817b8b9",
   "metadata": {},
   "outputs": [],
   "source": [
    "def draw_function(event , x , y , flags , params):\n",
    "    if event == cv2.EVENT_LBUTTONDBLCLK:\n",
    "        global clicked , r , g ,b , xpos , ypos\n",
    "        clicked = True\n",
    "        xpos = x\n",
    "        ypos = y\n",
    "        b ,g, r = img[y,x]\n",
    "        b = int(b)\n",
    "        g = int(g)\n",
    "        r = int(r)"
   ]
  },
  {
   "cell_type": "code",
   "execution_count": 9,
   "id": "1a4ba44b",
   "metadata": {},
   "outputs": [],
   "source": [
    "cv2.namedWindow('image')\n",
    "cv2.setMouseCallback('image', draw_function)"
   ]
  },
  {
   "cell_type": "code",
   "execution_count": null,
   "id": "3e2b594a",
   "metadata": {},
   "outputs": [],
   "source": [
    "while True:\n",
    "    cv2.imshow('image', img)\n",
    "    if clicked:\n",
    "        cv2.rectangle(img, (20, 20), (600, 60), (b, g, r), -1)\n",
    "        text = get_color_name(r, g, b) + f' R={r} G={g} B={b}'\n",
    "        cv2.putText(img, text, (50, 50), 2, 0.8, (0, 0, 0), 2, cv2.LINE_AA)\n",
    "\n",
    "    if cv2.waitKey(20) & 0xFF == 27:\n",
    "        break\n",
    "\n",
    "cv2.destroyAllWindows()"
   ]
  },
  {
   "cell_type": "code",
   "execution_count": null,
   "id": "a1138d68",
   "metadata": {},
   "outputs": [],
   "source": []
  }
 ],
 "metadata": {
  "kernelspec": {
   "display_name": "Python 3 (ipykernel)",
   "language": "python",
   "name": "python3"
  },
  "language_info": {
   "codemirror_mode": {
    "name": "ipython",
    "version": 3
   },
   "file_extension": ".py",
   "mimetype": "text/x-python",
   "name": "python",
   "nbconvert_exporter": "python",
   "pygments_lexer": "ipython3",
   "version": "3.11.4"
  }
 },
 "nbformat": 4,
 "nbformat_minor": 5
}
